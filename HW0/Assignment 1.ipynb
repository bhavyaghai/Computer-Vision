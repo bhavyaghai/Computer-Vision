{
 "cells": [
  {
   "cell_type": "markdown",
   "metadata": {},
   "source": [
    "<h2><center>CV Assignemnt 1</center></h2>\n",
    "<p>I have performed addition, subtraction, multiplication, division, resize operations using python 2.7 & opencv3</p>"
   ]
  },
  {
   "cell_type": "code",
   "execution_count": 1,
   "metadata": {
    "collapsed": false
   },
   "outputs": [
    {
     "name": "stdout",
     "output_type": "stream",
     "text": [
      "3.1.0\n"
     ]
    }
   ],
   "source": [
    "import cv2\n",
    "import numpy as np\n",
    "print cv2.__version__"
   ]
  },
  {
   "cell_type": "code",
   "execution_count": 2,
   "metadata": {
    "collapsed": false
   },
   "outputs": [
    {
     "name": "stdout",
     "output_type": "stream",
     "text": [
      "enter input image name(including extension): input.jpg\n"
     ]
    }
   ],
   "source": [
    "# Load an color image in grayscale\n",
    "img_name = raw_input(\"enter input image name(including extension): \")\n",
    "img = cv2.imread(img_name,1)"
   ]
  },
  {
   "cell_type": "code",
   "execution_count": 3,
   "metadata": {
    "collapsed": false
   },
   "outputs": [],
   "source": [
    "def show(img,label=\"Input Image\"):\n",
    "    cv2.imshow(label,img)\n",
    "    cv2.waitKey(0)\n",
    "    cv2.destroyAllWindows()"
   ]
  },
  {
   "cell_type": "code",
   "execution_count": 4,
   "metadata": {
    "collapsed": false
   },
   "outputs": [
    {
     "name": "stdout",
     "output_type": "stream",
     "text": [
      "('rows, col, channels ', (354L, 450L, 3L))\n",
      "('Type ', dtype('uint8'))\n"
     ]
    }
   ],
   "source": [
    "# show imput image\n",
    "show(img)\n",
    "print(\"rows, col, channels \",img.shape)\n",
    "row, col, cha = img.shape\n",
    "print(\"Type \",img.dtype)"
   ]
  },
  {
   "cell_type": "code",
   "execution_count": 5,
   "metadata": {
    "collapsed": false
   },
   "outputs": [],
   "source": [
    "# Add scalar to image\n",
    "blank_image = np.zeros((row,col,cha), np.uint8)\n",
    "blank_image[:] = (100, 100, 100)\n",
    "img_add = cv2.add(img,blank_image)\n",
    "show(img_add,\"Output: Subtract 100\")"
   ]
  },
  {
   "cell_type": "code",
   "execution_count": 6,
   "metadata": {
    "collapsed": false
   },
   "outputs": [],
   "source": [
    "# Subtract scalar from image\n",
    "blank_image[:] = (100, 100, 100)\n",
    "img_sub = cv2.subtract(img,blank_image)\n",
    "show(img_sub, \"Output: Subtract 100\")"
   ]
  },
  {
   "cell_type": "code",
   "execution_count": 7,
   "metadata": {
    "collapsed": false
   },
   "outputs": [],
   "source": [
    "# Multiply scalar to image\n",
    "blank_image[:] = (2, 2, 2)\n",
    "img_mul = cv2.multiply(img,blank_image)\n",
    "show(img_mul,\"Output: Multiply by 2\")"
   ]
  },
  {
   "cell_type": "code",
   "execution_count": 8,
   "metadata": {
    "collapsed": false
   },
   "outputs": [],
   "source": [
    "# Divide scalar to image\n",
    "blank_image[:] = (2, 2, 2)\n",
    "img_div = cv2.divide(img,blank_image)\n",
    "show(img_div,\"Output: Divide by 2\")"
   ]
  },
  {
   "cell_type": "code",
   "execution_count": 9,
   "metadata": {
    "collapsed": true
   },
   "outputs": [],
   "source": [
    "# Resize image\n",
    "img_res = cv2.resize(img, (0,0), fx=0.5, fy=0.5)\n",
    "show(img_res,\"Output: Resize image by 1/2\")"
   ]
  }
 ],
 "metadata": {
  "anaconda-cloud": {},
  "kernelspec": {
   "display_name": "Python [default]",
   "language": "python",
   "name": "python2"
  },
  "language_info": {
   "codemirror_mode": {
    "name": "ipython",
    "version": 2
   },
   "file_extension": ".py",
   "mimetype": "text/x-python",
   "name": "python",
   "nbconvert_exporter": "python",
   "pygments_lexer": "ipython2",
   "version": "2.7.12"
  }
 },
 "nbformat": 4,
 "nbformat_minor": 1
}
