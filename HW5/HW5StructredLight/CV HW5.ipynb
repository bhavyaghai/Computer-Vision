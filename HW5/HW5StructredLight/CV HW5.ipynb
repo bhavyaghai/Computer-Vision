{
 "cells": [
  {
   "cell_type": "code",
   "execution_count": 10,
   "metadata": {
    "collapsed": true
   },
   "outputs": [],
   "source": [
    "import cv2\n",
    "import numpy as np\n",
    "from matplotlib import pyplot as plt\n",
    "import pickle\n",
    "import sys"
   ]
  },
  {
   "cell_type": "code",
   "execution_count": 11,
   "metadata": {
    "collapsed": true
   },
   "outputs": [],
   "source": [
    "def show_img(img):\n",
    "    cv2.imshow('image',img)\n",
    "    cv2.waitKey(0)\n",
    "    cv2.destroyAllWindows()\n",
    "    cv2.imwrite(\"./output/out.jpg\", img)"
   ]
  },
  {
   "cell_type": "code",
   "execution_count": 12,
   "metadata": {
    "collapsed": false
   },
   "outputs": [],
   "source": [
    "scale_factor = 1.0\n",
    "ref_white = cv2.resize(cv2.imread(\"images/aligned000.jpg\", cv2.IMREAD_GRAYSCALE) / 255.0, (0,0), fx=scale_factor,fy=scale_factor)\n",
    "ref_black = cv2.resize(cv2.imread(\"images/aligned001.jpg\", cv2.IMREAD_GRAYSCALE) / 255.0, (0,0), fx=scale_factor,fy=scale_factor)\n",
    "ref_avg   = (ref_white + ref_black) / 2.0\n",
    "ref_on    = ref_avg + 0.05 # a threshold for ON pixels\n",
    "ref_off   = ref_avg - 0.05 # add a small buffer region"
   ]
  },
  {
   "cell_type": "code",
   "execution_count": 13,
   "metadata": {
    "collapsed": false
   },
   "outputs": [],
   "source": [
    "h,w = ref_white.shape\n",
    "\n",
    "# mask of pixels where there is projection\n",
    "proj_mask = (ref_white > (ref_black + 0.05))\n",
    "\n",
    "scan_bits = np.zeros((h,w), dtype=np.uint16)\n",
    "proj_image = np.zeros((h,w,3), dtype=np.uint8)"
   ]
  },
  {
   "cell_type": "code",
   "execution_count": 14,
   "metadata": {
    "collapsed": false
   },
   "outputs": [],
   "source": [
    "#temp_image =0\n",
    "def bool_img(x):\n",
    "#show_img(proj_mask)\n",
    "    t = x.astype(int)\n",
    "    temp_image = np.zeros((h,w,1), dtype=np.uint8)\n",
    "    temp_image[:,:,0] = t*255\n",
    "    show_img(temp_image)\n",
    "    cv2.imwrite(\"./output/out.jpg\", temp_image)"
   ]
  },
  {
   "cell_type": "code",
   "execution_count": 15,
   "metadata": {
    "collapsed": false,
    "scrolled": true
   },
   "outputs": [],
   "source": [
    " for i in range(0,15):\n",
    "        # read the file\n",
    "        patt = cv2.resize(cv2.imread(\"images/aligned%03d.jpg\"%(i+2)), (0,0), fx=scale_factor,fy=scale_factor)\n",
    "        patt_gray = cv2.resize(cv2.imread(\"images/aligned%03d.jpg\"%(i+2), cv2.IMREAD_GRAYSCALE) / 255.0, (0,0), fx=scale_factor,fy=scale_factor)\n",
    "\n",
    "        # mask where the pixels are ON\n",
    "        on_mask = (patt_gray > ref_on) & proj_mask\n",
    "        #bool_img(on_mask)\n",
    "        # this code corresponds with the binary pattern code\n",
    "        bit_code = np.uint16(1 << i)\n",
    "\n",
    "        # TODO: populate scan_bits by putting the bit_code according to on_mask\n",
    "        index = np.where(on_mask)\n",
    "        for t in range(len(index[0])):\n",
    "            i,j = index[0][t], index[1][t]\n",
    "            scan_bits[i,j] = scan_bits[i,j] | bit_code\n",
    "            #scan_bits[ on_mask] = scan_bits[on_mask] + bit_code"
   ]
  },
  {
   "cell_type": "code",
   "execution_count": 16,
   "metadata": {
    "collapsed": false
   },
   "outputs": [],
   "source": [
    "bool_img(scan_bits)"
   ]
  },
  {
   "cell_type": "code",
   "execution_count": 17,
   "metadata": {
    "collapsed": false
   },
   "outputs": [
    {
     "data": {
      "text/plain": [
       "257455"
      ]
     },
     "execution_count": 17,
     "metadata": {},
     "output_type": "execute_result"
    }
   ],
   "source": [
    "sum(sum(scan_bits>0))"
   ]
  },
  {
   "cell_type": "code",
   "execution_count": 18,
   "metadata": {
    "collapsed": false
   },
   "outputs": [
    {
     "data": {
      "text/plain": [
       "(960L, 1280L)"
      ]
     },
     "execution_count": 18,
     "metadata": {},
     "output_type": "execute_result"
    }
   ],
   "source": [
    "h,w"
   ]
  },
  {
   "cell_type": "code",
   "execution_count": 19,
   "metadata": {
    "collapsed": false
   },
   "outputs": [
    {
     "name": "stdout",
     "output_type": "stream",
     "text": [
      "(<type 'numpy.ndarray'>, (1L, 241133L, 2L))\n",
      "(<type 'numpy.ndarray'>, (1L, 241133L, 2L))\n"
     ]
    }
   ],
   "source": [
    "with open(\"binary_codes_ids_codebook.pckl\",\"r\") as f:\n",
    "        binary_codes_ids_codebook = pickle.load(f)\n",
    "\n",
    "camera_points = []\n",
    "projector_points = []\n",
    "for x in range(w):\n",
    "    for y in range(h):\n",
    "        if not proj_mask[y,x]:\n",
    "            continue # no projection here\n",
    "        if scan_bits[y,x] not in binary_codes_ids_codebook:\n",
    "            continue # bad binary code\n",
    "\n",
    "        x_p, y_p = binary_codes_ids_codebook[scan_bits[y,x]]\n",
    "        if x_p >= 1279 or y_p >= 799: # filter\n",
    "            continue\n",
    "        camera_points.append([y/2.0,x/2.0])\n",
    "        projector_points.append([y_p,x_p])\n",
    "            # TODO: use binary_codes_ids_codebook[...] and scan_bits[y,x] to\n",
    "            # TODO: find for the camera (x,y) the projector (p_x, p_y).\n",
    "            # TODO: store your points in camera_points and projector_points\n",
    "\n",
    "            # IMPORTANT!!! : due to differences in calibration and acquisition - divide the camera points by 2\n",
    "        proj_image[y,x] = [0,y_p,x_p]\n",
    "    # now that we have 2D-2D correspondances, we can triangulate 3D points!\n",
    "    \n",
    "show_img(proj_image)\n",
    "#return\n",
    "camera_points = np.asarray([camera_points], dtype=np.float32)\n",
    "projector_points = np.array([projector_points], dtype=np.float32)\n",
    "print(type(camera_points), camera_points.shape)\n",
    "print(type(projector_points), projector_points.shape)"
   ]
  },
  {
   "cell_type": "code",
   "execution_count": 20,
   "metadata": {
    "collapsed": true
   },
   "outputs": [],
   "source": [
    "# load the prepared stereo calibration between projector and camera\n",
    "with open(\"stereo_calibration.pckl\",\"r\") as f:\n",
    "    d = pickle.load(f)\n",
    "    camera_K    = d['camera_K']\n",
    "    camera_d    = d['camera_d']\n",
    "    projector_K = d['projector_K']\n",
    "    projector_d = d['projector_d']\n",
    "    projector_R = d['projector_R']\n",
    "    projector_t = d['projector_t']\n",
    "\n",
    "    # TODO: use cv2.undistortPoints to get normalized points for camera, use camera_K and camera_d\n",
    "    # TODO: use cv2.undistortPoints to get normalized points for projector, use projector_K and projector_d\n",
    "#camera_points = np.zeros((1,10,2), dtype=np.float32)\n",
    "#projector_points = np.zeros((1,10,2), dtype=np.float32)\n",
    "camera_undistorted = cv2.undistortPoints(camera_points, camera_K, camera_d)\n",
    "projector_undistorted = cv2.undistortPoints(projector_points, projector_K, projector_d)\n",
    "\n",
    "I = np.identity(3)\n",
    "z = np.zeros((3,1), dtype=np.float32)\n",
    "P1 = np.concatenate((I,z ),axis=1)\n",
    "P2 = np.concatenate((projector_R, projector_t),axis=1)\n",
    "\n",
    "#RL, RR, P1, P2, _, _, _ = cv2.stereoRectify(camera_K, camera_d, projector_K, projector_d, ref_avg.shape[::-1], projector_R, projector_t, alpha=-1)\n",
    "\n",
    "    # TODO: use cv2.triangulatePoints to triangulate the normalized points\n",
    "homo_cord = cv2.triangulatePoints(P1,P2,camera_undistorted, projector_undistorted)\n",
    "    # TODO: use cv2.convertPointsFromHomogeneous to get real 3D points\n",
    "points_3d = cv2.convertPointsFromHomogeneous(homo_cord.T)\n",
    "\t# TODO: name the resulted 3D points as \"points_3d\"\n",
    "#mask = (points_3d[:,:,2] > 200) & (points_3d[:,:,2] < 1400)\n",
    "#points_3d = points_3d[mask]"
   ]
  },
  {
   "cell_type": "code",
   "execution_count": 21,
   "metadata": {
    "collapsed": false
   },
   "outputs": [
    {
     "data": {
      "text/plain": [
       "(241133L, 1L, 3L)"
      ]
     },
     "execution_count": 21,
     "metadata": {},
     "output_type": "execute_result"
    }
   ],
   "source": [
    "#mask = (points_3d[:,:,2] > 200) & (points_3d[:,:,2] < 1400)\n",
    "#points_3d = points_3d[mask]\n",
    "points_3d.shape"
   ]
  },
  {
   "cell_type": "code",
   "execution_count": 22,
   "metadata": {
    "collapsed": false,
    "scrolled": true
   },
   "outputs": [],
   "source": [
    "points_3d_new = []\n",
    "for i in range(points_3d.shape[0]):\n",
    "    pt = points_3d[i][0]\n",
    "    #print(pt)\n",
    "    if pt[2]>200 and pt[2]<1400:\n",
    "        points_3d_new.append([pt])"
   ]
  },
  {
   "cell_type": "code",
   "execution_count": 23,
   "metadata": {
    "collapsed": false
   },
   "outputs": [
    {
     "data": {
      "text/plain": [
       "(233408L, 1L, 3L)"
      ]
     },
     "execution_count": 23,
     "metadata": {},
     "output_type": "execute_result"
    }
   ],
   "source": [
    "points_3d_new = np.asarray(points_3d_new)\n",
    "points_3d_new.shape"
   ]
  },
  {
   "cell_type": "code",
   "execution_count": 94,
   "metadata": {
    "collapsed": false
   },
   "outputs": [
    {
     "name": "stdout",
     "output_type": "stream",
     "text": [
      "write output point cloud\n",
      "(98500L, 3L)\n",
      "[-148.2102356    35.26653671  925.72241211]\n"
     ]
    },
    {
     "ename": "IndexError",
     "evalue": "too many indices for array",
     "output_type": "error",
     "traceback": [
      "\u001b[0;31m---------------------------------------------------------------------------\u001b[0m",
      "\u001b[0;31mIndexError\u001b[0m                                Traceback (most recent call last)",
      "\u001b[0;32m<ipython-input-94-f7bbd72b3eaa>\u001b[0m in \u001b[0;36m<module>\u001b[0;34m()\u001b[0m\n\u001b[1;32m      5\u001b[0m     \u001b[1;32mfor\u001b[0m \u001b[0mp\u001b[0m \u001b[1;32min\u001b[0m \u001b[0mpoints_3d\u001b[0m\u001b[1;33m:\u001b[0m\u001b[1;33m\u001b[0m\u001b[0m\n\u001b[1;32m      6\u001b[0m         \u001b[1;32mprint\u001b[0m\u001b[1;33m(\u001b[0m\u001b[0mp\u001b[0m\u001b[1;33m)\u001b[0m\u001b[1;33m\u001b[0m\u001b[0m\n\u001b[0;32m----> 7\u001b[0;31m         \u001b[0mf\u001b[0m\u001b[1;33m.\u001b[0m\u001b[0mwrite\u001b[0m\u001b[1;33m(\u001b[0m\u001b[1;34m\"%d %d %d\\n\"\u001b[0m\u001b[1;33m%\u001b[0m\u001b[1;33m(\u001b[0m\u001b[0mp\u001b[0m\u001b[1;33m[\u001b[0m\u001b[1;36m0\u001b[0m\u001b[1;33m,\u001b[0m\u001b[1;36m0\u001b[0m\u001b[1;33m]\u001b[0m\u001b[1;33m,\u001b[0m\u001b[0mp\u001b[0m\u001b[1;33m[\u001b[0m\u001b[1;36m0\u001b[0m\u001b[1;33m,\u001b[0m\u001b[1;36m1\u001b[0m\u001b[1;33m]\u001b[0m\u001b[1;33m,\u001b[0m\u001b[0mp\u001b[0m\u001b[1;33m[\u001b[0m\u001b[1;36m0\u001b[0m\u001b[1;33m,\u001b[0m\u001b[1;36m2\u001b[0m\u001b[1;33m]\u001b[0m\u001b[1;33m)\u001b[0m\u001b[1;33m)\u001b[0m\u001b[1;33m\u001b[0m\u001b[0m\n\u001b[0m\u001b[1;32m      8\u001b[0m     \u001b[1;31m#return points_3d #, camera_points, projector_points\u001b[0m\u001b[1;33m\u001b[0m\u001b[1;33m\u001b[0m\u001b[0m\n",
      "\u001b[0;31mIndexError\u001b[0m: too many indices for array"
     ]
    }
   ],
   "source": [
    "print(\"write output point cloud\")\n",
    "print(points_3d.shape)\n",
    "output_name = sys.argv[1] + \"output.xyz\"\n",
    "with open(output_name,\"w\") as f:\n",
    "    for p in points_3d:\n",
    "        print(p)\n",
    "        f.write(\"%d %d %d\\n\"%(p[0,0],p[0,1],p[0,2]))\n",
    "    #return points_3d #, camera_points, projector_points"
   ]
  },
  {
   "cell_type": "code",
   "execution_count": 10,
   "metadata": {
    "collapsed": false
   },
   "outputs": [
    {
     "data": {
      "text/plain": [
       "(960L, 1280L, 3L)"
      ]
     },
     "execution_count": 10,
     "metadata": {},
     "output_type": "execute_result"
    }
   ],
   "source": [
    "proj_image.shape"
   ]
  },
  {
   "cell_type": "code",
   "execution_count": 11,
   "metadata": {
    "collapsed": false
   },
   "outputs": [
    {
     "data": {
      "text/plain": [
       "array([0, 0, 0], dtype=uint8)"
      ]
     },
     "execution_count": 11,
     "metadata": {},
     "output_type": "execute_result"
    }
   ],
   "source": [
    "proj_image[959][1200]"
   ]
  },
  {
   "cell_type": "code",
   "execution_count": 60,
   "metadata": {
    "collapsed": false
   },
   "outputs": [
    {
     "data": {
      "text/plain": [
       "array([[ 849.005049  ,    0.        ,  355.69365051],\n",
       "       [   0.        ,  800.12432908,  147.20034655],\n",
       "       [   0.        ,    0.        ,    1.        ]])"
      ]
     },
     "execution_count": 60,
     "metadata": {},
     "output_type": "execute_result"
    }
   ],
   "source": [
    "camera_K"
   ]
  },
  {
   "cell_type": "code",
   "execution_count": 61,
   "metadata": {
    "collapsed": false
   },
   "outputs": [
    {
     "data": {
      "text/plain": [
       "array([[  3.00859116e+03,   0.00000000e+00,   5.25485417e+02],\n",
       "       [  0.00000000e+00,   2.66722446e+03,   5.34628897e+02],\n",
       "       [  0.00000000e+00,   0.00000000e+00,   1.00000000e+00]])"
      ]
     },
     "execution_count": 61,
     "metadata": {},
     "output_type": "execute_result"
    }
   ],
   "source": [
    "projector_K"
   ]
  },
  {
   "cell_type": "code",
   "execution_count": 68,
   "metadata": {
    "collapsed": false
   },
   "outputs": [
    {
     "data": {
      "text/plain": [
       "array([[ 0.],\n",
       "       [ 0.],\n",
       "       [ 0.]], dtype=float32)"
      ]
     },
     "execution_count": 68,
     "metadata": {},
     "output_type": "execute_result"
    }
   ],
   "source": [
    "np.zeros((3,1), dtype=np.float32)"
   ]
  },
  {
   "cell_type": "code",
   "execution_count": 75,
   "metadata": {
    "collapsed": false
   },
   "outputs": [
    {
     "data": {
      "text/plain": [
       "array([[ 1.,  0.,  0.,  0.],\n",
       "       [ 0.,  1.,  0.,  0.],\n",
       "       [ 0.,  0.,  1.,  0.]])"
      ]
     },
     "execution_count": 75,
     "metadata": {},
     "output_type": "execute_result"
    }
   ],
   "source": [
    "I = np.identity(3)\n",
    "z = np.zeros((3,1), dtype=np.float32)\n",
    "np.concatenate((I,z ),axis=1)"
   ]
  },
  {
   "cell_type": "code",
   "execution_count": 76,
   "metadata": {
    "collapsed": true
   },
   "outputs": [],
   "source": [
    "P2 = np.concatenate((projector_R, projector_t),axis=1)"
   ]
  },
  {
   "cell_type": "code",
   "execution_count": 77,
   "metadata": {
    "collapsed": false
   },
   "outputs": [
    {
     "data": {
      "text/plain": [
       "array([[ -9.98023725e-01,  -6.50097215e-03,  -6.25010484e-02,\n",
       "         -1.68515114e+01],\n",
       "       [  2.07499323e-03,  -9.97501121e-01,   7.06201679e-02,\n",
       "          7.21346242e+01],\n",
       "       [ -6.28039656e-02,   7.03509138e-02,   9.95543274e-01,\n",
       "          5.38563319e+00]])"
      ]
     },
     "execution_count": 77,
     "metadata": {},
     "output_type": "execute_result"
    }
   ],
   "source": [
    "P2"
   ]
  },
  {
   "cell_type": "code",
   "execution_count": null,
   "metadata": {
    "collapsed": true
   },
   "outputs": [],
   "source": []
  }
 ],
 "metadata": {
  "anaconda-cloud": {},
  "kernelspec": {
   "display_name": "Python [default]",
   "language": "python",
   "name": "python2"
  },
  "language_info": {
   "codemirror_mode": {
    "name": "ipython",
    "version": 2
   },
   "file_extension": ".py",
   "mimetype": "text/x-python",
   "name": "python",
   "nbconvert_exporter": "python",
   "pygments_lexer": "ipython2",
   "version": "2.7.12"
  }
 },
 "nbformat": 4,
 "nbformat_minor": 2
}
