{
 "cells": [
  {
   "cell_type": "code",
   "execution_count": 34,
   "metadata": {
    "collapsed": true
   },
   "outputs": [],
   "source": [
    "import cv2\n",
    "import numpy as np\n",
    "from matplotlib import pyplot as plt\n",
    "import pickle"
   ]
  },
  {
   "cell_type": "code",
   "execution_count": 8,
   "metadata": {
    "collapsed": true
   },
   "outputs": [],
   "source": [
    "def show_img(img):\n",
    "    cv2.imshow('image',img)\n",
    "    cv2.waitKey(0)\n",
    "    cv2.destroyAllWindows()"
   ]
  },
  {
   "cell_type": "code",
   "execution_count": 111,
   "metadata": {
    "collapsed": false
   },
   "outputs": [],
   "source": [
    "scale_factor = 1.0\n",
    "ref_white = cv2.resize(cv2.imread(\"images/aligned000.jpg\", cv2.IMREAD_GRAYSCALE) / 255.0, (0,0), fx=scale_factor,fy=scale_factor)\n",
    "ref_black = cv2.resize(cv2.imread(\"images/aligned001.jpg\", cv2.IMREAD_GRAYSCALE) / 255.0, (0,0), fx=scale_factor,fy=scale_factor)\n",
    "ref_avg   = (ref_white + ref_black) / 2.0\n",
    "ref_on    = ref_avg + 0.05 # a threshold for ON pixels\n",
    "ref_off   = ref_avg - 0.05 # add a small buffer region"
   ]
  },
  {
   "cell_type": "code",
   "execution_count": 112,
   "metadata": {
    "collapsed": false
   },
   "outputs": [],
   "source": [
    "h,w = ref_white.shape\n",
    "\n",
    "# mask of pixels where there is projection\n",
    "proj_mask = (ref_white > (ref_black + 0.05))\n",
    "\n",
    "scan_bits = np.zeros((h,w), dtype=np.uint16)"
   ]
  },
  {
   "cell_type": "code",
   "execution_count": 113,
   "metadata": {
    "collapsed": false,
    "scrolled": true
   },
   "outputs": [],
   "source": [
    " for i in range(0,15):\n",
    "        # read the file\n",
    "        patt = cv2.resize(cv2.imread(\"images/aligned%03d.jpg\"%(i+2)), (0,0), fx=scale_factor,fy=scale_factor)\n",
    "        patt_gray = cv2.resize(cv2.imread(\"images/aligned%03d.jpg\"%(i+2), cv2.IMREAD_GRAYSCALE) / 255.0, (0,0), fx=scale_factor,fy=scale_factor)\n",
    "\n",
    "        # mask where the pixels are ON\n",
    "        on_mask = (patt_gray > ref_on) & proj_mask\n",
    "\n",
    "        # this code corresponds with the binary pattern code\n",
    "        bit_code = np.uint16(1 << i)\n",
    "\n",
    "        # TODO: populate scan_bits by putting the bit_code according to on_mask\n",
    "        index = np.nonzero(on_mask)\n",
    "        for t in range(len(index[0])):\n",
    "            i,j = index[0][t], index[1][t]\n",
    "            scan_bits[i,j] = scan_bits[i,j] | bit_code\n",
    "            #scan_bits[ on_mask] = scan_bits[on_mask] | bit_code"
   ]
  },
  {
   "cell_type": "code",
   "execution_count": 133,
   "metadata": {
    "collapsed": false
   },
   "outputs": [
    {
     "name": "stdout",
     "output_type": "stream",
     "text": [
      "(<type 'numpy.ndarray'>, (1L, 284663L, 2L))\n"
     ]
    },
    {
     "ename": "error",
     "evalue": "C:\\projects\\opencv-python\\opencv\\modules\\imgproc\\src\\undistort.cpp:440: error: (-215) src.isContinuous() && (src.depth() == CV_32F || src.depth() == CV_64F) && ((src.rows == 1 && src.channels() == 2) || src.cols*src.channels() == 2) in function cv::undistortPoints\n",
     "output_type": "error",
     "traceback": [
      "\u001b[0;31m---------------------------------------------------------------------------\u001b[0m",
      "\u001b[0;31merror\u001b[0m                                     Traceback (most recent call last)",
      "\u001b[0;32m<ipython-input-133-0985962be7b8>\u001b[0m in \u001b[0;36m<module>\u001b[0;34m()\u001b[0m\n\u001b[1;32m     38\u001b[0m     \u001b[1;31m# TODO: use cv2.undistortPoints to get normalized points for camera, use camera_K and camera_d\u001b[0m\u001b[1;33m\u001b[0m\u001b[1;33m\u001b[0m\u001b[0m\n\u001b[1;32m     39\u001b[0m     \u001b[1;31m# TODO: use cv2.undistortPoints to get normalized points for projector, use projector_K and projector_d\u001b[0m\u001b[1;33m\u001b[0m\u001b[1;33m\u001b[0m\u001b[0m\n\u001b[0;32m---> 40\u001b[0;31m \u001b[0mcamera_undistorted\u001b[0m \u001b[1;33m=\u001b[0m \u001b[0mcv2\u001b[0m\u001b[1;33m.\u001b[0m\u001b[0mundistortPoints\u001b[0m\u001b[1;33m(\u001b[0m\u001b[0mcamera_points\u001b[0m\u001b[1;33m,\u001b[0m \u001b[0mcamera_K\u001b[0m\u001b[1;33m,\u001b[0m \u001b[0mcamera_d\u001b[0m\u001b[1;33m)\u001b[0m\u001b[1;33m\u001b[0m\u001b[0m\n\u001b[0m\u001b[1;32m     41\u001b[0m \u001b[0mcamera_undistorted\u001b[0m \u001b[1;33m=\u001b[0m \u001b[0mcv2\u001b[0m\u001b[1;33m.\u001b[0m\u001b[0mundistortPoints\u001b[0m\u001b[1;33m(\u001b[0m\u001b[0mprojector_points\u001b[0m\u001b[1;33m,\u001b[0m \u001b[0mprojector_K\u001b[0m\u001b[1;33m,\u001b[0m \u001b[0mprojector_d\u001b[0m\u001b[1;33m)\u001b[0m\u001b[1;33m\u001b[0m\u001b[0m\n\u001b[1;32m     42\u001b[0m     \u001b[1;31m# TODO: use cv2.triangulatePoints to triangulate the normalized points\u001b[0m\u001b[1;33m\u001b[0m\u001b[1;33m\u001b[0m\u001b[0m\n",
      "\u001b[0;31merror\u001b[0m: C:\\projects\\opencv-python\\opencv\\modules\\imgproc\\src\\undistort.cpp:440: error: (-215) src.isContinuous() && (src.depth() == CV_32F || src.depth() == CV_64F) && ((src.rows == 1 && src.channels() == 2) || src.cols*src.channels() == 2) in function cv::undistortPoints\n"
     ]
    }
   ],
   "source": [
    "with open(\"binary_codes_ids_codebook.pckl\",\"r\") as f:\n",
    "        binary_codes_ids_codebook = pickle.load(f)\n",
    "\n",
    "camera_points = []\n",
    "projector_points = []\n",
    "for x in range(w):\n",
    "    for y in range(h):\n",
    "        if not proj_mask[y,x]:\n",
    "            continue # no projection here\n",
    "        if scan_bits[y,x] not in binary_codes_ids_codebook:\n",
    "            continue # bad binary code\n",
    "\n",
    "        camera_points.append([y/2,x/2])\n",
    "        x_p, y_p = binary_codes_ids_codebook[scan_bits[y,x]]\n",
    "        if x_p >= 1279 or y_p >= 799: # filter\n",
    "            continue\n",
    "        projector_points.append([y_p,x_p])\n",
    "            # TODO: use binary_codes_ids_codebook[...] and scan_bits[y,x] to\n",
    "            # TODO: find for the camera (x,y) the projector (p_x, p_y).\n",
    "            # TODO: store your points in camera_points and projector_points\n",
    "\n",
    "            # IMPORTANT!!! : due to differences in calibration and acquisition - divide the camera points by 2\n",
    "\n",
    "    # now that we have 2D-2D correspondances, we can triangulate 3D points!\n",
    "camera_points = np.array([camera_points])\n",
    "print(type(camera_points), camera_points.shape)\n",
    "    \n",
    "    # load the prepared stereo calibration between projector and camera\n",
    "with open(\"stereo_calibration.pckl\",\"r\") as f:\n",
    "    d = pickle.load(f)\n",
    "    camera_K    = d['camera_K']\n",
    "    camera_d    = d['camera_d']\n",
    "    projector_K = d['projector_K']\n",
    "    projector_d = d['projector_d']\n",
    "    projector_R = d['projector_R']\n",
    "    projector_t = d['projector_t']\n",
    "\n",
    "    # TODO: use cv2.undistortPoints to get normalized points for camera, use camera_K and camera_d\n",
    "    # TODO: use cv2.undistortPoints to get normalized points for projector, use projector_K and projector_d\n",
    "camera_undistorted = cv2.undistortPoints(camera_points, camera_K, camera_d)\n",
    "camera_undistorted = cv2.undistortPoints(projector_points, projector_K, projector_d)\n",
    "    # TODO: use cv2.triangulatePoints to triangulate the normalized points\n",
    "homo_cord = cv2.triangulatePoints(camera_K,projector_K,camera_points, projector_points)\n",
    "    # TODO: use cv2.convertPointsFromHomogeneous to get real 3D points\n",
    "points_3d = cv2.convertPointsFromHomogeneous(homo_cord)\n",
    "\t# TODO: name the resulted 3D points as \"points_3d\"\n",
    "mask = (points_3d[:,:,2] > 200) & (points_3d[:,:,2] < 1400)\n",
    "points_3d = points_3d[mask]"
   ]
  },
  {
   "cell_type": "code",
   "execution_count": 120,
   "metadata": {
    "collapsed": false
   },
   "outputs": [
    {
     "name": "stdout",
     "output_type": "stream",
     "text": [
      "257455\n",
      "22217\n"
     ]
    }
   ],
   "source": [
    "print(len(scan_bits[scan_bits>0]))\n",
    "print(len(set(scan_bits[scan_bits>0])))"
   ]
  },
  {
   "cell_type": "code",
   "execution_count": 106,
   "metadata": {
    "collapsed": false
   },
   "outputs": [
    {
     "data": {
      "text/plain": [
       "149820"
      ]
     },
     "execution_count": 106,
     "metadata": {},
     "output_type": "execute_result"
    }
   ],
   "source": [
    "np.sum(on_mask)"
   ]
  },
  {
   "cell_type": "code",
   "execution_count": 35,
   "metadata": {
    "collapsed": false
   },
   "outputs": [],
   "source": [
    "with open(\"binary_codes_ids_codebook.pckl\",\"r\") as f:\n",
    "        binary_codes_ids_codebook = pickle.load(f)"
   ]
  },
  {
   "cell_type": "code",
   "execution_count": 107,
   "metadata": {
    "collapsed": false
   },
   "outputs": [
    {
     "data": {
      "text/plain": [
       "32512"
      ]
     },
     "execution_count": 107,
     "metadata": {},
     "output_type": "execute_result"
    }
   ],
   "source": [
    "len(binary_codes_ids_codebook.keys())"
   ]
  },
  {
   "cell_type": "code",
   "execution_count": 121,
   "metadata": {
    "collapsed": true
   },
   "outputs": [],
   "source": [
    "    with open(\"stereo_calibration.pckl\",\"r\") as f:\n",
    "        d = pickle.load(f)\n",
    "        camera_K    = d['camera_K']\n",
    "        camera_d    = d['camera_d']\n",
    "        projector_K = d['projector_K']\n",
    "        projector_d = d['projector_d']\n",
    "        projector_R = d['projector_R']\n",
    "        projector_t = d['projector_t']"
   ]
  },
  {
   "cell_type": "code",
   "execution_count": 122,
   "metadata": {
    "collapsed": false
   },
   "outputs": [
    {
     "data": {
      "text/plain": [
       "array([[ 849.005049  ,    0.        ,  355.69365051],\n",
       "       [   0.        ,  800.12432908,  147.20034655],\n",
       "       [   0.        ,    0.        ,    1.        ]])"
      ]
     },
     "execution_count": 122,
     "metadata": {},
     "output_type": "execute_result"
    }
   ],
   "source": [
    "camera_K"
   ]
  },
  {
   "cell_type": "code",
   "execution_count": 124,
   "metadata": {
    "collapsed": false
   },
   "outputs": [
    {
     "data": {
      "text/plain": [
       "array([[  3.00859116e+03,   0.00000000e+00,   5.25485417e+02],\n",
       "       [  0.00000000e+00,   2.66722446e+03,   5.34628897e+02],\n",
       "       [  0.00000000e+00,   0.00000000e+00,   1.00000000e+00]])"
      ]
     },
     "execution_count": 124,
     "metadata": {},
     "output_type": "execute_result"
    }
   ],
   "source": [
    "projector_K"
   ]
  },
  {
   "cell_type": "code",
   "execution_count": null,
   "metadata": {
    "collapsed": true
   },
   "outputs": [],
   "source": []
  }
 ],
 "metadata": {
  "anaconda-cloud": {},
  "kernelspec": {
   "display_name": "Python [default]",
   "language": "python",
   "name": "python2"
  },
  "language_info": {
   "codemirror_mode": {
    "name": "ipython",
    "version": 2
   },
   "file_extension": ".py",
   "mimetype": "text/x-python",
   "name": "python",
   "nbconvert_exporter": "python",
   "pygments_lexer": "ipython2",
   "version": "2.7.12"
  }
 },
 "nbformat": 4,
 "nbformat_minor": 2
}
